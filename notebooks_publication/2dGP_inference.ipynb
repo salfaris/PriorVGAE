{
 "cells": [
  {
   "cell_type": "code",
   "execution_count": 1,
   "metadata": {},
   "outputs": [],
   "source": [
    "import sys\n",
    "\n",
    "from pathlib import Path\n",
    "ROOT_PATH = Path.cwd().parent\n",
    "\n",
    "# To access packages and files from root directory\n",
    "sys.path.insert(1, str(ROOT_PATH))"
   ]
  },
  {
   "cell_type": "code",
   "execution_count": 2,
   "metadata": {},
   "outputs": [
    {
     "name": "stderr",
     "output_type": "stream",
     "text": [
      "/Users/salmanfaris/miniforge3/envs/prior-vgae/lib/python3.9/site-packages/jax/_src/lib/__init__.py:34: UserWarning: JAX on Mac ARM machines is experimental and minimally tested. Please see https://github.com/google/jax/issues/5501 in the event of problems.\n",
      "  warnings.warn(\"JAX on Mac ARM machines is experimental and minimally tested. \"\n"
     ]
    },
    {
     "name": "stdout",
     "output_type": "stream",
     "text": [
      "JAX version: 0.3.13\n",
      "Numpyro version: 0.9.2\n"
     ]
    }
   ],
   "source": [
    "%load_ext autoreload\n",
    "%autoreload 2\n",
    "\n",
    "import os\n",
    "from pathlib import Path\n",
    "import time\n",
    "from typing import Tuple, Type\n",
    "\n",
    "import haiku as hk\n",
    "import jax\n",
    "import jax.numpy as jnp\n",
    "import jraph\n",
    "import networkx as nx\n",
    "import matplotlib.pyplot as plt\n",
    "import numpy as np\n",
    "import optax\n",
    "\n",
    "# Numpyro\n",
    "import numpyro\n",
    "import numpyro.distributions as dist\n",
    "from numpyro.infer import MCMC, NUTS, init_to_median, Predictive\n",
    "from numpyro.diagnostics import hpdi\n",
    "\n",
    "# Local imports\n",
    "import loss\n",
    "import dataset\n",
    "import dataset_1dgp\n",
    "import plotting\n",
    "import model\n",
    "\n",
    "print(f\"JAX version: {jax.__version__}\")\n",
    "print(f\"Numpyro version: {numpyro.__version__}\")"
   ]
  },
  {
   "cell_type": "code",
   "execution_count": 3,
   "metadata": {},
   "outputs": [
    {
     "name": "stdout",
     "output_type": "stream",
     "text": [
      "4\n"
     ]
    }
   ],
   "source": [
    "numpyro.set_host_device_count(4)\n",
    "print(jax.local_device_count())"
   ]
  },
  {
   "cell_type": "code",
   "execution_count": 4,
   "metadata": {},
   "outputs": [],
   "source": [
    "def compute_ess_1dgp(mcmc_obj):\n",
    "    ss = numpyro.diagnostics.summary(mcmc_obj.get_samples(group_by_chain=True))\n",
    "    r = np.mean(ss['f']['n_eff'])\n",
    "    print(\"Average ESS for all spatial effects: \" + str(round(r)))"
   ]
  },
  {
   "cell_type": "code",
   "execution_count": 5,
   "metadata": {},
   "outputs": [],
   "source": [
    "FIG_PATH = Path.cwd() / 'figures/2DGP_figures'\n",
    "FIG_PATH.mkdir(exist_ok=True, parents=True)\n",
    "\n",
    "PUBLICATION_PATH = FIG_PATH / '2DGP_inference'\n",
    "PUBLICATION_PATH.mkdir(exist_ok=True)\n",
    "\n",
    "DATASET_PATH = ROOT_PATH / 'dataset.nosync'\n",
    "DATASET_PATH.mkdir(exist_ok=True)\n",
    "\n",
    "MODEL_PATH = Path.cwd() / 'models'"
   ]
  },
  {
   "cell_type": "code",
   "execution_count": 6,
   "metadata": {},
   "outputs": [],
   "source": [
    "RNG_SEED = 44\n",
    "RNG_KEY = jax.random.PRNGKey(RNG_SEED)"
   ]
  },
  {
   "cell_type": "code",
   "execution_count": 7,
   "metadata": {},
   "outputs": [],
   "source": [
    "# create grid\n",
    "n = 25\n",
    "grid = jnp.arange(0, 1, 1/n)\n",
    "u, v = jnp.meshgrid(grid, grid)\n",
    "\n",
    "X = jnp.array([u.flatten(), v.flatten()]).transpose((1, 0))\n",
    "IMAGE_SHAPE = (n, n)\n",
    "\n",
    "adj_matrix, _, _, num_regions, _ = dataset.generate_synthetic_dataset(IMAGE_SHAPE[0], IMAGE_SHAPE[1])"
   ]
  },
  {
   "cell_type": "code",
   "execution_count": 8,
   "metadata": {},
   "outputs": [],
   "source": [
    "from dataclasses import dataclass\n",
    "from typing import Dict, Optional, Callable\n",
    "\n",
    "LossFun = Callable[[jax.numpy.ndarray, jax.numpy.ndarray], jnp.float32]\n",
    "\n",
    "@dataclass\n",
    "class GP2DArgs:\n",
    "  kernel: Callable = dataset_1dgp.exp_sq_kernel\n",
    "  adj_matrix: np.ndarray = adj_matrix\n",
    "  num_regions: int = num_regions\n",
    "\n",
    "GP2D_ARGS = GP2DArgs()"
   ]
  },
  {
   "cell_type": "code",
   "execution_count": 9,
   "metadata": {},
   "outputs": [],
   "source": [
    "BASE_GRAPH = dataset.create_grid_graph(GP2D_ARGS.adj_matrix)"
   ]
  },
  {
   "cell_type": "markdown",
   "metadata": {},
   "source": [
    "# Load params"
   ]
  },
  {
   "cell_type": "code",
   "execution_count": 10,
   "metadata": {},
   "outputs": [
    {
     "name": "stdout",
     "output_type": "stream",
     "text": [
      "Loading VGAE+L2G model from /Users/salmanfaris/Desktop/ds-projects/msc-proj/PriorVGAE/notebooks_publication/models/2DGP_VGAE_L2G\n",
      "\n",
      "Loading VAE model from /Users/salmanfaris/Desktop/ds-projects/msc-proj/PriorVGAE/models/2DGP_0.001lr_20000epochs_35h1Dim_30h2Dim_10latentDim_625numLocations_100batchSize\n"
     ]
    }
   ],
   "source": [
    "# VGAE+L2G\n",
    "vgaeL2G_model_name = '2DGP_VGAE_L2G'\n",
    "model_path = MODEL_PATH / vgaeL2G_model_name\n",
    "\n",
    "print(f\"Loading VGAE+L2G model from {model_path}\")\n",
    "vgaeL2G_params = model.restore_params(model_path)\n",
    "\n",
    "print()\n",
    "# VAE\n",
    "vae_model_name = '2DGP_0.001lr_20000epochs_35h1Dim_30h2Dim_10latentDim_625numLocations_100batchSize'\n",
    "model_path = ROOT_PATH / 'models' / vae_model_name\n",
    "\n",
    "print(f\"Loading VAE model from {model_path}\")\n",
    "vae_params = model.restore_params(model_path)"
   ]
  },
  {
   "cell_type": "markdown",
   "metadata": {},
   "source": [
    "# Models"
   ]
  },
  {
   "cell_type": "code",
   "execution_count": 11,
   "metadata": {},
   "outputs": [],
   "source": [
    "from typing import Callable\n",
    "import layer\n",
    "\n",
    "def decoder_vgaeL2G(\n",
    "        z: jnp.ndarray,\n",
    "        graph: jraph.GraphsTuple,\n",
    "        hidden_gnn_dim: int,\n",
    "        output_dim: int,\n",
    "        num_nodes: int,\n",
    "        batch_size: int,\n",
    "        act_fn: Callable = jax.nn.elu) -> jraph.GraphsTuple:\n",
    "    \n",
    "    z = hk.Linear(num_nodes*hidden_gnn_dim,\n",
    "                  name='decoder_hidden2_fc')(z)  # (batch_size, num_nodes*hidden_gnn_dim)\n",
    "    z = act_fn(z)\n",
    "    \n",
    "    # Reshape to jraph.batch format: (num_nodes, hidden_gnn_dim)\n",
    "    z = z.reshape((batch_size*num_nodes, hidden_gnn_dim))\n",
    "    # graph = BASE_GRAPH._replace(nodes=z)\n",
    "    graph = graph._replace(nodes=z)\n",
    "    \n",
    "    gn = layer.GraphConvolutionSharpening(\n",
    "        update_node_fn=hk.Sequential([\n",
    "            hk.Linear(hidden_gnn_dim, name='decoder_hidden_gnn'), act_fn,\n",
    "        ]),\n",
    "        add_self_edges=True,\n",
    "    )\n",
    "    graph = gn(graph)\n",
    "    gn = layer.GraphConvolutionSharpening(\n",
    "        update_node_fn=hk.Sequential([\n",
    "            hk.Linear(hidden_gnn_dim, name='decoder_hidden_gnn2'), act_fn,\n",
    "        ]),\n",
    "        add_self_edges=True,\n",
    "    )\n",
    "    graph = gn(graph)\n",
    "    \n",
    "    x = graph.nodes.reshape(batch_size, num_nodes, hidden_gnn_dim)\n",
    "    x = hk.Flatten()(x)  # dim: (batch_size, num_nodes*hidden_gnn_dim)\n",
    "\n",
    "    x = hk.Linear(num_nodes, name='decoder_output')(x)\n",
    "\n",
    "    return jnp.reshape(x, (batch_size*num_nodes, 1))"
   ]
  },
  {
   "cell_type": "markdown",
   "metadata": {},
   "source": [
    "# Inference predictives"
   ]
  },
  {
   "cell_type": "code",
   "execution_count": 12,
   "metadata": {},
   "outputs": [],
   "source": [
    "# VAE settings\n",
    "vae_hidden1_dim = 30\n",
    "vae_hidden2_dim = 35\n",
    "vae_latent_dim = 10\n",
    "\n",
    "vae_decoder_params_keys = [k for k in list(vae_params.keys()) if k.startswith('variational_auto_encoder/decoder')]\n",
    "vae_decoder_params = {}\n",
    "for full_key_name in vae_decoder_params_keys:\n",
    "    key_name = ('/').join(full_key_name.split('/')[2:])  # remove the 'variational_auto_encoder/' prefix\n",
    "    vae_decoder_params[key_name] = vae_params[full_key_name]\n",
    "\n",
    "vae_decoder_net = hk.without_apply_rng(\n",
    "    hk.transform(  \n",
    "      lambda z: model.priorvae_decoder(\n",
    "        z,\n",
    "        hidden1_dim=vae_hidden1_dim,\n",
    "        hidden2_dim=vae_hidden2_dim,\n",
    "        output_dim=GP2D_ARGS.num_regions\n",
    "    )\n",
    "))\n",
    "\n",
    "def vae_predictive_model(y=None, obs_idx=None):\n",
    "    z = numpyro.sample('z', dist.Normal(0, 1).expand([vae_latent_dim]))\n",
    "    vae_out = jnp.squeeze(vae_decoder_net.apply(vae_decoder_params, z))\n",
    "    f = numpyro.deterministic('f', vae_out)\n",
    "    sigma = numpyro.sample('noise', dist.HalfNormal(0.1))\n",
    "\n",
    "    if y is None: # at prediction time\n",
    "        numpyro.sample('y_pred', dist.Normal(f, sigma))\n",
    "    else: # at inference time\n",
    "        numpyro.sample('y', dist.Normal(f[obs_idx], sigma), obs=y)"
   ]
  },
  {
   "cell_type": "code",
   "execution_count": 13,
   "metadata": {},
   "outputs": [],
   "source": [
    "from functools import partial\n",
    "\n",
    "# VGAE settings\n",
    "vgae_latent_dim = 10\n",
    "vgae_hidden_dim = 6\n",
    "\n",
    "# VGAE+L2G\n",
    "vgaeL2G_decoder_keys = [k for k in list(vgaeL2G_params.keys()) if k.startswith('vgae/decoder')]\n",
    "vgaeL2G_decoder = {}\n",
    "for full_key_name in vgaeL2G_decoder_keys:\n",
    "    key_name = full_key_name.split('/')[-1]  # remove the 'vgae/' prefix\n",
    "    vgaeL2G_decoder[key_name] = vgaeL2G_params[full_key_name]\n",
    "\n",
    "vgaeL2G_decoder_net_fn = partial(decoder_vgaeL2G,\n",
    "                         graph=BASE_GRAPH,\n",
    "                         hidden_gnn_dim=vgae_hidden_dim,\n",
    "                         output_dim=GP2D_ARGS.num_regions,\n",
    "                         batch_size=1,\n",
    "                         num_nodes=GP2D_ARGS.num_regions)\n",
    "vgaeL2G_decoder_net = hk.without_apply_rng(hk.transform(vgaeL2G_decoder_net_fn))\n",
    "\n",
    "def vgaeL2G_predictive_model(y=None, obs_idx=None):\n",
    "    z = numpyro.sample('z', dist.Normal(0, 1).expand([vgae_latent_dim]))\n",
    "    vgae_out = jnp.squeeze(vgaeL2G_decoder_net.apply(vgaeL2G_decoder, z))\n",
    "    f = numpyro.deterministic('f', vgae_out)\n",
    "    sigma = numpyro.sample('noise', dist.HalfNormal(0.1))\n",
    "\n",
    "    if y is None: # at prediction time\n",
    "        numpyro.sample('y_pred', dist.Normal(f, sigma))\n",
    "    else: # at inference time\n",
    "        numpyro.sample('y', dist.Normal(f[obs_idx], sigma), obs=y)"
   ]
  },
  {
   "cell_type": "markdown",
   "metadata": {},
   "source": [
    "# Begin inference"
   ]
  },
  {
   "cell_type": "code",
   "execution_count": 14,
   "metadata": {},
   "outputs": [],
   "source": [
    "# RNG_KEY = jax.random.PRNGKey(1)  # promising!\n",
    "# RNG_KEY = jax.random.PRNGKey(11)\n",
    "# RNG_KEY = jax.random.PRNGKey(4)\n",
    "RNG_KEY = jax.random.PRNGKey(23)  # quite nice\n",
    "\n",
    "RNG_KEY, gp_rng = jax.random.split(RNG_KEY)\n",
    "\n",
    "# Generate true data and observed dataset to infer\n",
    "gp_draw = Predictive(dataset_1dgp.gp_predictive_model, num_samples=1)(\n",
    "    gp_rng, x=X, gp_kernel=GP2D_ARGS.kernel, noise=True, kernel_length=0.27,\n",
    ")\n",
    "y_truth = gp_draw['f'].T\n",
    "y_observed = gp_draw['y'].T"
   ]
  },
  {
   "cell_type": "code",
   "execution_count": 15,
   "metadata": {},
   "outputs": [
    {
     "data": {
      "text/plain": [
       "Text(0.5, 1.0, 'Ground truth with noise')"
      ]
     },
     "execution_count": 15,
     "metadata": {},
     "output_type": "execute_result"
    },
    {
     "data": {
      "image/png": "[encoded data removed]",
      "text/plain": [
       "<Figure size 360x360 with 1 Axes>"
      ]
     },
     "metadata": {
      "needs_background": "light"
     },
     "output_type": "display_data"
    }
   ],
   "source": [
    "_, ax = plt.subplots(figsize=(5, 5))\n",
    "\n",
    "# Mean plot\n",
    "cmap_cols = \"GnBu\"\n",
    "al = 0.9\n",
    "\n",
    "im = ax.imshow(np.flip(y_observed.reshape(IMAGE_SHAPE), axis=0), cmap=cmap_cols, interpolation='none', extent=[0,1,0,1], origin='lower', alpha=al, aspect='auto',)\n",
    "ax.set_title(\"Ground truth with noise\", fontsize=14)"
   ]
  },
  {
   "cell_type": "code",
   "execution_count": 16,
   "metadata": {},
   "outputs": [
    {
     "data": {
      "text/plain": [
       "[DeviceArray([151, 112, 503, 137,   0, 441], dtype=int32),\n",
       " DeviceArray([151, 112, 503, 137,   0, 441, 592, 524, 293, 384, 178, 436], dtype=int32),\n",
       " DeviceArray([151, 112, 503, 137,   0, 441, 592, 524, 293, 384, 178, 436,\n",
       "              375, 354, 344, 380, 224, 296, 121], dtype=int32)]"
      ]
     },
     "execution_count": 16,
     "metadata": {},
     "output_type": "execute_result"
    }
   ],
   "source": [
    "# Percentage of observed locations\n",
    "pct_obs_locations = np.array([0.01, 0.02, 0.03])\n",
    "\n",
    "num_obs_locations = np.round(pct_obs_locations * GP2D_ARGS.num_regions)\n",
    "num_obs_locations = num_obs_locations.astype(int)\n",
    "\n",
    "RNG_KEY = jax.random.PRNGKey(46)\n",
    "RNG_KEY, choice_rng = jax.random.split(RNG_KEY)\n",
    "\n",
    "obs_locations = [\n",
    "    jax.random.choice(choice_rng, GP2D_ARGS.num_regions, shape=(num,), replace=False)\n",
    "        for num in num_obs_locations\n",
    "]\n",
    "obs_locations"
   ]
  },
  {
   "cell_type": "code",
   "execution_count": 17,
   "metadata": {},
   "outputs": [
    {
     "name": "stdout",
     "output_type": "stream",
     "text": [
      "Running chain for n_obs = 6\n"
     ]
    },
    {
     "data": {
      "application/vnd.jupyter.widget-view+json": {
       "model_id": "58cd650a75544c29ad809b58f1ece823",
       "version_major": 2,
       "version_minor": 0
      },
      "text/plain": [
       "  0%|          | 0/2000 [00:00<?, ?it/s]"
      ]
     },
     "metadata": {},
     "output_type": "display_data"
    },
    {
     "data": {
      "application/vnd.jupyter.widget-view+json": {
       "model_id": "3c60942230df4e7296d07e2634dc682f",
       "version_major": 2,
       "version_minor": 0
      },
      "text/plain": [
       "  0%|          | 0/2000 [00:00<?, ?it/s]"
      ]
     },
     "metadata": {},
     "output_type": "display_data"
    },
    {
     "data": {
      "application/vnd.jupyter.widget-view+json": {
       "model_id": "79647d5e02d44624859ca0092ca5692a",
       "version_major": 2,
       "version_minor": 0
      },
      "text/plain": [
       "  0%|          | 0/2000 [00:00<?, ?it/s]"
      ]
     },
     "metadata": {},
     "output_type": "display_data"
    },
    {
     "data": {
      "application/vnd.jupyter.widget-view+json": {
       "model_id": "e2ec42fee4e2444db89f74e537497d81",
       "version_major": 2,
       "version_minor": 0
      },
      "text/plain": [
       "  0%|          | 0/2000 [00:00<?, ?it/s]"
      ]
     },
     "metadata": {},
     "output_type": "display_data"
    },
    {
     "name": "stdout",
     "output_type": "stream",
     "text": [
      "\n",
      "MCMC elapsed time: 3.4709601402282715\n",
      "Running chain for n_obs = 12\n"
     ]
    },
    {
     "data": {
      "application/vnd.jupyter.widget-view+json": {
       "model_id": "472814f2ebaa4e66a757a3f6eefdfcfb",
       "version_major": 2,
       "version_minor": 0
      },
      "text/plain": [
       "  0%|          | 0/2000 [00:00<?, ?it/s]"
      ]
     },
     "metadata": {},
     "output_type": "display_data"
    },
    {
     "data": {
      "application/vnd.jupyter.widget-view+json": {
       "model_id": "6309ea13c3144d75b1ceb3bd964c23ec",
       "version_major": 2,
       "version_minor": 0
      },
      "text/plain": [
       "  0%|          | 0/2000 [00:00<?, ?it/s]"
      ]
     },
     "metadata": {},
     "output_type": "display_data"
    },
    {
     "data": {
      "application/vnd.jupyter.widget-view+json": {
       "model_id": "70311532324d4fc3aeb35442593f23a8",
       "version_major": 2,
       "version_minor": 0
      },
      "text/plain": [
       "  0%|          | 0/2000 [00:00<?, ?it/s]"
      ]
     },
     "metadata": {},
     "output_type": "display_data"
    },
    {
     "data": {
      "application/vnd.jupyter.widget-view+json": {
       "model_id": "714b4c0a48bb47d9922e78d4feaaf381",
       "version_major": 2,
       "version_minor": 0
      },
      "text/plain": [
       "  0%|          | 0/2000 [00:00<?, ?it/s]"
      ]
     },
     "metadata": {},
     "output_type": "display_data"
    },
    {
     "name": "stdout",
     "output_type": "stream",
     "text": [
      "\n",
      "MCMC elapsed time: 2.7390360832214355\n",
      "Running chain for n_obs = 19\n"
     ]
    },
    {
     "data": {
      "application/vnd.jupyter.widget-view+json": {
       "model_id": "f37d37a15f624003b382937ffc62043e",
       "version_major": 2,
       "version_minor": 0
      },
      "text/plain": [
       "  0%|          | 0/2000 [00:00<?, ?it/s]"
      ]
     },
     "metadata": {},
     "output_type": "display_data"
    },
    {
     "data": {
      "application/vnd.jupyter.widget-view+json": {
       "model_id": "b549d23f2f9840d88d9d79a62c4bda94",
       "version_major": 2,
       "version_minor": 0
      },
      "text/plain": [
       "  0%|          | 0/2000 [00:00<?, ?it/s]"
      ]
     },
     "metadata": {},
     "output_type": "display_data"
    },
    {
     "data": {
      "application/vnd.jupyter.widget-view+json": {
       "model_id": "f7a00d745ac34e25823af08ba3dd8695",
       "version_major": 2,
       "version_minor": 0
      },
      "text/plain": [
       "  0%|          | 0/2000 [00:00<?, ?it/s]"
      ]
     },
     "metadata": {},
     "output_type": "display_data"
    },
    {
     "data": {
      "application/vnd.jupyter.widget-view+json": {
       "model_id": "e5b6a9fe44ae4140a1a805ed5d6a38d6",
       "version_major": 2,
       "version_minor": 0
      },
      "text/plain": [
       "  0%|          | 0/2000 [00:00<?, ?it/s]"
      ]
     },
     "metadata": {},
     "output_type": "display_data"
    },
    {
     "name": "stdout",
     "output_type": "stream",
     "text": [
      "\n",
      "MCMC elapsed time: 2.604787826538086\n"
     ]
    }
   ],
   "source": [
    "vae_mean_post_preds_list = []\n",
    "vae_sd_post_preds_list = []\n",
    "obs_xs = []\n",
    "obs_ys = []\n",
    "vae_predictions_list = []\n",
    "vae_mcmc_objs = []\n",
    "\n",
    "RNG_KEY, inference_rng = jax.random.split(RNG_KEY)\n",
    "\n",
    "for i, obs_location in enumerate(obs_locations):\n",
    "    mcmc_rng, pred_rng = jax.random.split(jax.random.fold_in(inference_rng, i))\n",
    "    \n",
    "    x_obs = X[obs_location]\n",
    "    y_obs = jnp.squeeze(y_observed[obs_location])\n",
    "    \n",
    "    print(f'Running chain for n_obs = {len(obs_location)}')\n",
    "    \n",
    "    # MCMC sampling\n",
    "    start = time.time()\n",
    "    init_strategy = init_to_median(num_samples=10)\n",
    "    kernel = NUTS(vae_predictive_model, init_strategy=init_strategy)\n",
    "    mcmc = MCMC(\n",
    "        kernel,\n",
    "        num_warmup=1000,\n",
    "        num_samples=1000,\n",
    "        num_chains=4,\n",
    "        thinning=1,\n",
    "        progress_bar=False if 'NUMPYRO_SPHINXBUILD' in os.environ else True,\n",
    "    )\n",
    "    mcmc.run(mcmc_rng, y_obs, obs_location)\n",
    "    print('\\nMCMC elapsed time:', time.time() - start)\n",
    "    \n",
    "    mcmc_samples = mcmc.get_samples()\n",
    "    vae_mcmc_objs.append(mcmc)\n",
    "\n",
    "    predictions = Predictive(vae_predictive_model, mcmc_samples)(pred_rng)['f']\n",
    "    mean_post_pred = jnp.mean(predictions, axis=0)\n",
    "    sd_post_pred = jnp.std(predictions, axis=0)\n",
    "    \n",
    "    obs_xs.append(x_obs)\n",
    "    obs_ys.append(y_obs)\n",
    "    vae_predictions_list.append(predictions)\n",
    "    vae_mean_post_preds_list.append(mean_post_pred)\n",
    "    vae_sd_post_preds_list.append(sd_post_pred)"
   ]
  },
  {
   "cell_type": "code",
   "execution_count": null,
   "metadata": {},
   "outputs": [],
   "source": [
    "vgaeL2G_mean_post_preds_list = []\n",
    "vgaeL2G_sd_post_preds_list = []\n",
    "obs_xs = []\n",
    "obs_ys = []\n",
    "vgaeL2G_predictions_list = []\n",
    "vgaeL2G_mcmc_objs = []\n",
    "\n",
    "RNG_KEY, inference_rng = jax.random.split(RNG_KEY)\n",
    "\n",
    "for i, obs_location in enumerate(obs_locations):\n",
    "    mcmc_rng, pred_rng = jax.random.split(jax.random.fold_in(inference_rng, i))\n",
    "    \n",
    "    x_obs = X[obs_location]\n",
    "    y_obs = jnp.squeeze(y_observed[obs_location])\n",
    "    \n",
    "    print(f'Running chain for n_obs = {len(obs_location)}')\n",
    "    \n",
    "    # MCMC sampling\n",
    "    start = time.time()\n",
    "    init_strategy = init_to_median(num_samples=10)\n",
    "    kernel = NUTS(vgaeL2G_predictive_model, init_strategy=init_strategy)\n",
    "    mcmc = MCMC(\n",
    "        kernel,\n",
    "        num_warmup=1000,\n",
    "        num_samples=1000,\n",
    "        num_chains=4,\n",
    "        thinning=1,\n",
    "        progress_bar=False if 'NUMPYRO_SPHINXBUILD' in os.environ else True,\n",
    "    )\n",
    "    mcmc.run(mcmc_rng, y_obs, obs_location)\n",
    "    print('\\nMCMC elapsed time:', time.time() - start)\n",
    "    \n",
    "    mcmc_samples = mcmc.get_samples()\n",
    "    vgaeL2G_mcmc_objs.append(mcmc)\n",
    "\n",
    "    predictions = Predictive(vgaeL2G_predictive_model, mcmc_samples)(pred_rng)['f']\n",
    "    mean_post_pred = jnp.mean(predictions, axis=0)\n",
    "    sd_post_pred = jnp.std(predictions, axis=0)\n",
    "    \n",
    "    obs_xs.append(x_obs)\n",
    "    obs_ys.append(y_obs)\n",
    "    vgaeL2G_predictions_list.append(predictions)\n",
    "    vgaeL2G_mean_post_preds_list.append(mean_post_pred)\n",
    "    vgaeL2G_sd_post_preds_list.append(sd_post_pred)"
   ]
  },
  {
   "cell_type": "code",
   "execution_count": null,
   "metadata": {},
   "outputs": [
    {
     "name": "stdout",
     "output_type": "stream",
     "text": [
      "\n",
      "VGAEL2G\n",
      "Average ESS for all spatial effects: 1792\n",
      "Average ESS for all spatial effects: 2232\n",
      "Average ESS for all spatial effects: 4150\n",
      "\n",
      "VAE\n",
      "Average ESS for all spatial effects: 291\n",
      "Average ESS for all spatial effects: 2613\n",
      "Average ESS for all spatial effects: 4254\n"
     ]
    }
   ],
   "source": [
    "print()\n",
    "print('VGAEL2G')\n",
    "for mcmc in vgaeL2G_mcmc_objs:\n",
    "    compute_ess_1dgp(mcmc)\n",
    "\n",
    "print()\n",
    "print('VAE')\n",
    "for mcmc in vae_mcmc_objs:\n",
    "    compute_ess_1dgp(mcmc)\n"
   ]
  },
  {
   "cell_type": "code",
   "execution_count": null,
   "metadata": {},
   "outputs": [
    {
     "data": {
      "image/png": "[encoded data removed]",
      "text/plain": [
       "<Figure size 1440x576 with 12 Axes>"
      ]
     },
     "metadata": {
      "needs_background": "light"
     },
     "output_type": "display_data"
    },
    {
     "data": {
      "image/png": "[encoded data removed]",
      "text/plain": [
       "<Figure size 1440x576 with 12 Axes>"
      ]
     },
     "metadata": {
      "needs_background": "light"
     },
     "output_type": "display_data"
    }
   ],
   "source": [
    "# plot results\n",
    "fig, axs = plt.subplots(nrows=2, ncols=2+len(vgaeL2G_mean_post_preds_list), figsize=(20,8))\n",
    "_min, _max = np.amin(vgaeL2G_mean_post_preds_list), np.amax(vgaeL2G_mean_post_preds_list)\n",
    "al = 0.9\n",
    "cmap_cols = \"GnBu\"\n",
    "\n",
    "# Mean plot\n",
    "im = axs[0,0].imshow(np.flip(y_observed.reshape(IMAGE_SHAPE), axis=0), cmap=cmap_cols, interpolation='none', extent=[0,1,0,1], origin='lower', alpha=al, aspect='auto',)\n",
    "axs[0,0].set_title(\"Ground truth with noise\", fontsize=14)\n",
    "axs[0,0].axes.xaxis.set_visible(False)\n",
    "axs[0,0].axes.yaxis.set_visible(False)\n",
    "\n",
    "for i in range(len(vgaeL2G_mean_post_preds_list)):\n",
    "    im = axs[0,i+1].imshow(np.flip(vgaeL2G_mean_post_preds_list[i].reshape(IMAGE_SHAPE),axis=0), cmap=cmap_cols, interpolation='none', extent=[0,1,0,1], aspect='auto', \n",
    "                   origin='lower', vmin= _min, vmax = _max, alpha=al)\n",
    "    axs[0,i+1].set_title(\"inferred mean: \" + str(num_obs_locations[i]) + \" points\", fontsize=14)\n",
    "    axs[0,i+1].axes.xaxis.set_visible(False)\n",
    "    axs[0,i+1].axes.yaxis.set_visible(False)\n",
    "    # axs[0,i+1].scatter(obs_xs[i][:,0], obs_xs[i][:,1], c=obs_ys[i], edgecolors='red')\n",
    "    axs[0,i+1].scatter(obs_xs[i][:,0], obs_xs[i][:,1], c='red', edgecolors='red')\n",
    "\n",
    "axs[0,1+len(vgaeL2G_mean_post_preds_list)].axis('off')\n",
    "cbaxes = fig.add_axes([0.79, 0.555, 0.01, 0.30]) # left, bottom, width, height\n",
    "fig.colorbar(im, ax=axs[0,1+len(vgaeL2G_mean_post_preds_list)], cax = cbaxes)\n",
    "\n",
    "\n",
    "# Standard deviation plot\n",
    "_min, _max = np.amin(vgaeL2G_sd_post_preds_list), np.amax(vgaeL2G_sd_post_preds_list)\n",
    "\n",
    "axs[1,0].axis('off')\n",
    "\n",
    "for i in range(len(vgaeL2G_sd_post_preds_list)):\n",
    "    im = axs[1,i+1].imshow(np.flip(vgaeL2G_sd_post_preds_list[i].reshape(IMAGE_SHAPE),axis=0), cmap=cmap_cols, interpolation='none', extent=[0,1,0,1], aspect='auto', \n",
    "                   origin='lower', vmin= _min, vmax = _max, alpha=al)\n",
    "    axs[1,i+1].set_title(\"standard deviation: \" + str(num_obs_locations[i]) + \" points\", fontsize=14)\n",
    "    axs[1,i+1].axes.xaxis.set_visible(False)\n",
    "    axs[1,i+1].axes.yaxis.set_visible(False)\n",
    "    # axs[1,i+1].scatter(obs_xs[i][:,0], obs_xs[i][:,1], c=obs_ys[i], edgecolors='red')\n",
    "    axs[1,i+1].scatter(obs_xs[i][:,0], obs_xs[i][:,1], c='red', edgecolors='red')\n",
    "\n",
    "axs[1,1+len(vgaeL2G_sd_post_preds_list)].axis('off')\n",
    "cbaxes = fig.add_axes([0.79, 0.142, 0.01, 0.30])\n",
    "fig.colorbar(im, ax=axs[1,1+len(vgaeL2G_sd_post_preds_list)], cax = cbaxes)\n",
    "\n",
    "# plt.tight_layout()\n",
    "plt.show()\n",
    "\n",
    "save_to_dir = FIG_PATH / 'publication'\n",
    "save_to_dir.mkdir(exist_ok=True)\n",
    "fig.savefig(save_to_dir / '2DGP_inference_PriorVGAE.jpg', dpi=300, bbox_inches='tight')\n",
    "# plt.rcParams['figure.dpi'] = 300\n",
    "# plt.rcParams['savefig.dpi'] = 300\n",
    "# #plt.savefig('res/2d_n{}_infer_hyperpars.png'.format(n))\n",
    "# plt.savefig('res/2d_n{}_infer_hyperpars.pdf'.format(n))\n",
    "\n",
    "\n",
    "\n",
    "# VAE plot results\n",
    "fig, axs = plt.subplots(nrows=2, ncols=2+len(vae_mean_post_preds_list), figsize=(20,8))\n",
    "_min, _max = np.amin(vae_mean_post_preds_list), np.amax(vae_mean_post_preds_list)\n",
    "al = 0.9\n",
    "cmap_cols = \"GnBu\"\n",
    "\n",
    "# Mean plot\n",
    "im = axs[0,0].imshow(np.flip(y_observed.reshape(IMAGE_SHAPE), axis=0), cmap=cmap_cols, interpolation='none', extent=[0,1,0,1], origin='lower', alpha=al, aspect='auto',)\n",
    "axs[0,0].set_title(\"Ground truth with noise\", fontsize=14)\n",
    "axs[0,0].axes.xaxis.set_visible(False)\n",
    "axs[0,0].axes.yaxis.set_visible(False)\n",
    "\n",
    "for i in range(len(vae_mean_post_preds_list)):\n",
    "    im = axs[0,i+1].imshow(np.flip(vae_mean_post_preds_list[i].reshape(IMAGE_SHAPE),axis=0), cmap=cmap_cols, interpolation='none', extent=[0,1,0,1], aspect='auto', \n",
    "                   origin='lower', vmin= _min, vmax = _max, alpha=al)\n",
    "    axs[0,i+1].set_title(\"inferred mean: \" + str(num_obs_locations[i]) + \" points\", fontsize=14)\n",
    "    axs[0,i+1].axes.xaxis.set_visible(False)\n",
    "    axs[0,i+1].axes.yaxis.set_visible(False)\n",
    "    # axs[0,i+1].scatter(obs_xs[i][:,0], obs_xs[i][:,1], c=obs_ys[i], edgecolors='red')\n",
    "    axs[0,i+1].scatter(obs_xs[i][:,0], obs_xs[i][:,1], c='red', edgecolors='red')\n",
    "\n",
    "axs[0,1+len(vae_mean_post_preds_list)].axis('off')\n",
    "cbaxes = fig.add_axes([0.79, 0.555, 0.01, 0.30]) # left, bottom, width, height\n",
    "fig.colorbar(im, ax=axs[0,1+len(vae_mean_post_preds_list)], cax = cbaxes)\n",
    "\n",
    "\n",
    "# Standard deviation plot\n",
    "_min, _max = np.amin(vae_sd_post_preds_list), np.amax(vae_sd_post_preds_list)\n",
    "\n",
    "axs[1,0].axis('off')\n",
    "\n",
    "for i in range(len(vae_sd_post_preds_list)):\n",
    "    im = axs[1,i+1].imshow(np.flip(vae_sd_post_preds_list[i].reshape(IMAGE_SHAPE),axis=0), cmap=cmap_cols, interpolation='none', extent=[0,1,0,1], aspect='auto', \n",
    "                   origin='lower', vmin= _min, vmax = _max, alpha=al)\n",
    "    axs[1,i+1].set_title(\"standard deviation: \" + str(num_obs_locations[i]) + \" points\", fontsize=14)\n",
    "    axs[1,i+1].axes.xaxis.set_visible(False)\n",
    "    axs[1,i+1].axes.yaxis.set_visible(False)\n",
    "    # axs[1,i+1].scatter(obs_xs[i][:,0], obs_xs[i][:,1], c=obs_ys[i], edgecolors='red')\n",
    "    axs[1,i+1].scatter(obs_xs[i][:,0], obs_xs[i][:,1], c='red', edgecolors='red')\n",
    "\n",
    "axs[1,1+len(vae_sd_post_preds_list)].axis('off')\n",
    "cbaxes = fig.add_axes([0.79, 0.142, 0.01, 0.30])\n",
    "fig.colorbar(im, ax=axs[1,1+len(vae_sd_post_preds_list)], cax = cbaxes)\n",
    "\n",
    "# plt.tight_layout()\n",
    "plt.show()\n",
    "\n",
    "save_to_dir = FIG_PATH / 'publication'\n",
    "save_to_dir.mkdir(exist_ok=True)\n",
    "fig.savefig(save_to_dir / '2DGP_inference_PriorVAE.jpg', dpi=300, bbox_inches='tight')\n",
    "# plt.rcParams['figure.dpi'] = 300\n",
    "# plt.rcParams['savefig.dpi'] = 300\n",
    "# #plt.savefig('res/2d_n{}_infer_hyperpars.png'.format(n))\n",
    "# plt.savefig('res/2d_n{}_infer_hyperpars.pdf'.format(n))"
   ]
  },
  {
   "cell_type": "code",
   "execution_count": null,
   "metadata": {},
   "outputs": [
    {
     "name": "stdout",
     "output_type": "stream",
     "text": [
      "mse_vgaeL2G (6) = 0.43736502528190613\n",
      "mse_vgaeL2G (12) = 0.19999562203884125\n",
      "mse_vgaeL2G (19) = 0.11958925426006317\n",
      "\n",
      "mse_vae (6) = 0.4776284992694855\n",
      "mse_vae (12) = 0.26815447211265564\n",
      "mse_vae (19) = 0.1270366609096527\n"
     ]
    }
   ],
   "source": [
    "for idx, mean in enumerate(vgaeL2G_mean_post_preds_list):\n",
    "    mse_vgae = np.mean((y_truth.flatten() -  mean)**2)\n",
    "    print(f'mse_vgaeL2G ({len(obs_locations[idx])}) = {mse_vgae}')\n",
    "\n",
    "print()\n",
    "for idx, mean in enumerate(vae_mean_post_preds_list):\n",
    "    mse_vgae = np.mean((y_truth.flatten() -  mean)**2)\n",
    "    print(f'mse_vae ({len(obs_locations[idx])}) = {mse_vgae}')"
   ]
  },
  {
   "cell_type": "code",
   "execution_count": null,
   "metadata": {},
   "outputs": [],
   "source": [
    "# plot results\n",
    "fig, axs = plt.subplots(nrows=2, ncols=2+len(vgaeL2G_mean_post_preds_list), figsize=(20,8))\n",
    "_min, _max = np.amin(vgaeL2G_mean_post_preds_list), np.amax(vgaeL2G_mean_post_preds_list)\n",
    "al = 0.9\n",
    "cmap_cols = \"GnBu\"\n",
    "\n",
    "# Mean plot\n",
    "im = axs[0,0].imshow(np.flip(y_observed.reshape(IMAGE_SHAPE), axis=0), cmap=cmap_cols, interpolation='none', extent=[0,1,0,1], origin='lower', alpha=al, aspect='auto',)\n",
    "axs[0,0].set_title(\"Ground truth with noise\", fontsize=14)\n",
    "axs[0,0].axes.xaxis.set_visible(False)\n",
    "axs[0,0].axes.yaxis.set_visible(False)\n",
    "\n",
    "for i in range(len(vgaeL2G_mean_post_preds_list)):\n",
    "    im = axs[0,i+1].imshow(np.flip(vgaeL2G_mean_post_preds_list[i].reshape(IMAGE_SHAPE),axis=0), cmap=cmap_cols, interpolation='none', extent=[0,1,0,1], aspect='auto', \n",
    "                   origin='lower', vmin= _min, vmax = _max, alpha=al)\n",
    "    axs[0,i+1].set_title(\"inferred mean: \" + str(num_obs_locations[i]) + \" points\", fontsize=14)\n",
    "    axs[0,i+1].axes.xaxis.set_visible(False)\n",
    "    axs[0,i+1].axes.yaxis.set_visible(False)\n",
    "    # axs[0,i+1].scatter(obs_xs[i][:,0], obs_xs[i][:,1], c=obs_ys[i], edgecolors='red')\n",
    "    axs[0,i+1].scatter(obs_xs[i][:,0], obs_xs[i][:,1], c='red', edgecolors='red')\n",
    "\n",
    "axs[0,1+len(vgaeL2G_mean_post_preds_list)].axis('off')\n",
    "cbaxes = fig.add_axes([0.79, 0.555, 0.01, 0.30]) # left, bottom, width, height\n",
    "fig.colorbar(im, ax=axs[0,1+len(vgaeL2G_mean_post_preds_list)], cax = cbaxes)\n",
    "\n",
    "\n",
    "# Standard deviation plot\n",
    "_min, _max = np.amin(vgaeL2G_sd_post_preds_list), np.amax(vgaeL2G_sd_post_preds_list)\n",
    "\n",
    "axs[1,0].axis('off')\n",
    "\n",
    "for i in range(len(vgaeL2G_sd_post_preds_list)):\n",
    "    im = axs[1,i+1].imshow(np.flip(vgaeL2G_sd_post_preds_list[i].reshape(IMAGE_SHAPE),axis=0), cmap=cmap_cols, interpolation='none', extent=[0,1,0,1], aspect='auto', \n",
    "                   origin='lower', vmin= _min, vmax = _max, alpha=al)\n",
    "    axs[1,i+1].set_title(\"standard deviation: \" + str(num_obs_locations[i]) + \" points\", fontsize=14)\n",
    "    axs[1,i+1].axes.xaxis.set_visible(False)\n",
    "    axs[1,i+1].axes.yaxis.set_visible(False)\n",
    "    # axs[1,i+1].scatter(obs_xs[i][:,0], obs_xs[i][:,1], c=obs_ys[i], edgecolors='red')\n",
    "    axs[1,i+1].scatter(obs_xs[i][:,0], obs_xs[i][:,1], c='red', edgecolors='red')\n",
    "\n",
    "axs[1,1+len(vgaeL2G_sd_post_preds_list)].axis('off')\n",
    "cbaxes = fig.add_axes([0.79, 0.142, 0.01, 0.30])\n",
    "fig.colorbar(im, ax=axs[1,1+len(vgaeL2G_sd_post_preds_list)], cax = cbaxes)\n",
    "\n",
    "# plt.tight_layout()\n",
    "plt.show()\n",
    "\n",
    "# save_to_dir = FIG_PATH / 'publication'\n",
    "# save_to_dir.mkdir(exist_ok=True)\n",
    "# fig.savefig(save_to_dir / '2DGP_inference_PriorVGAE.jpg', dpi=300, bbox_inches='tight')"
   ]
  }
 ],
 "metadata": {
  "kernelspec": {
   "display_name": "Python 3.9.12 ('prior-vgae')",
   "language": "python",
   "name": "python3"
  },
  "language_info": {
   "codemirror_mode": {
    "name": "ipython",
    "version": 3
   },
   "file_extension": ".py",
   "mimetype": "text/x-python",
   "name": "python",
   "nbconvert_exporter": "python",
   "pygments_lexer": "ipython3",
   "version": "3.9.12"
  },
  "orig_nbformat": 4,
  "vscode": {
   "interpreter": {
    "hash": "dd34c39988d2e6cb9390a06b3c813259e40e632c4d5ab9531698769fca00a447"
   }
  }
 },
 "nbformat": 4,
 "nbformat_minor": 2
}
